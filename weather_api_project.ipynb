{
 "cells": [
  {
   "cell_type": "code",
   "execution_count": 1,
   "id": "8de29a90",
   "metadata": {},
   "outputs": [],
   "source": [
    "#importing the libraries\n",
    "import requests\n",
    "import json"
   ]
  },
  {
   "cell_type": "code",
   "execution_count": 4,
   "id": "6283bd9c",
   "metadata": {},
   "outputs": [],
   "source": [
    "#api endpoint with city name\n",
    "url = 'https://api.openweathermap.org/data/2.5/weather?q=Bangalore&appid=2b865b3550838950e455a79a42b744bb'\n",
    "api_key = \"Enter_Your_API\""
   ]
  },
  {
   "cell_type": "code",
   "execution_count": 5,
   "id": "f5978962",
   "metadata": {},
   "outputs": [
    {
     "name": "stdout",
     "output_type": "stream",
     "text": [
      "{'coord': {'lon': 77.6033, 'lat': 12.9762}, 'weather': [{'id': 211, 'main': 'Thunderstorm', 'description': 'thunderstorm', 'icon': '11n'}], 'base': 'stations', 'main': {'temp': 299.91, 'feels_like': 301.06, 'temp_min': 296.05, 'temp_max': 300.95, 'pressure': 1007, 'humidity': 62}, 'visibility': 6000, 'wind': {'speed': 4.12, 'deg': 320}, 'clouds': {'all': 40}, 'dt': 1716556813, 'sys': {'type': 1, 'id': 9205, 'country': 'IN', 'sunrise': 1716510170, 'sunset': 1716556221}, 'timezone': 19800, 'id': 1277333, 'name': 'Bengaluru', 'cod': 200}\n"
     ]
    },
    {
     "data": {
      "text/plain": [
       "'Thunderstorm'"
      ]
     },
     "execution_count": 5,
     "metadata": {},
     "output_type": "execute_result"
    }
   ],
   "source": [
    "response =  requests.get(url)\n",
    "response.status_code\n",
    "#extracting only the json data from the response object\n",
    "data = response.json()\n",
    "print(data)\n",
    "#accessing the json elements like a dictionary\n",
    "data['base']\n",
    "data['weather'][0]['main']\n"
   ]
  },
  {
   "cell_type": "code",
   "execution_count": 6,
   "id": "b6bdacab",
   "metadata": {},
   "outputs": [
    {
     "data": {
      "text/plain": [
       "27"
      ]
     },
     "execution_count": 6,
     "metadata": {},
     "output_type": "execute_result"
    }
   ],
   "source": [
    "round(data['main']['temp'] - 273.15)"
   ]
  },
  {
   "cell_type": "code",
   "execution_count": 11,
   "id": "4fa9fa78",
   "metadata": {},
   "outputs": [
    {
     "name": "stdout",
     "output_type": "stream",
     "text": [
      "Location: London\n",
      "The weather in London is 18° C with broken clouds.\n",
      "It feels like 17° C.\n",
      "Today's high is 19° C and today's low is 16° C.\n"
     ]
    }
   ],
   "source": [
    "while True:\n",
    "    location = input(\"Location: \")\n",
    "\n",
    "    result = requests.get(f'http://api.openweathermap.org/data/2.5/weather?q={location}&units=metric&appid={api_key}')\n",
    "    if result.json()['cod'] == '404':\n",
    "        print(\"Invalid location!\")\n",
    "        continue\n",
    "    break\n",
    "    \n",
    "description = result.json()['weather'][0]['description']\n",
    "temperature = round(result.json()['main']['temp'])\n",
    "feels_like = round(result.json()['main']['feels_like'])\n",
    "high = round(result.json()['main']['temp_max'])\n",
    "low = round(result.json()['main']['temp_min'])\n",
    "\n",
    "print(f\"The weather in {location[0].upper()}{location[1:]} is {temperature}° C with {description}.\")\n",
    "print(f\"It feels like {feels_like}° C.\")\n",
    "print(f\"Today's high is {high}° C and today's low is {low}° C.\")"
   ]
  },
  {
   "cell_type": "code",
   "execution_count": null,
   "id": "d2ec9e7a",
   "metadata": {},
   "outputs": [],
   "source": []
  }
 ],
 "metadata": {
  "kernelspec": {
   "display_name": "Python 3 (ipykernel)",
   "language": "python",
   "name": "python3"
  },
  "language_info": {
   "codemirror_mode": {
    "name": "ipython",
    "version": 3
   },
   "file_extension": ".py",
   "mimetype": "text/x-python",
   "name": "python",
   "nbconvert_exporter": "python",
   "pygments_lexer": "ipython3",
   "version": "3.11.4"
  }
 },
 "nbformat": 4,
 "nbformat_minor": 5
}
